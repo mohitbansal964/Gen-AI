{
 "cells": [
  {
   "cell_type": "code",
   "execution_count": 1,
   "id": "a8c2dd81-d1aa-4d9a-9939-135911049061",
   "metadata": {},
   "outputs": [
    {
     "data": {
      "text/plain": [
       "True"
      ]
     },
     "execution_count": 1,
     "metadata": {},
     "output_type": "execute_result"
    }
   ],
   "source": [
    "from openai import OpenAI\n",
    "import os\n",
    "from dotenv import load_dotenv\n",
    "from IPython.display import display, Markdown\n",
    "\n",
    "load_dotenv()"
   ]
  },
  {
   "cell_type": "code",
   "execution_count": 2,
   "id": "9c665a11-7df8-4b08-b2ed-cd121f19c112",
   "metadata": {},
   "outputs": [],
   "source": [
    "api_key = os.getenv(\"OPENAI_API_KEY\")"
   ]
  },
  {
   "cell_type": "code",
   "execution_count": 3,
   "id": "ad4c6a15-c3fd-495d-8701-5f630cdcfb0d",
   "metadata": {},
   "outputs": [],
   "source": [
    "client = OpenAI(\n",
    "    api_key=api_key,\n",
    ")"
   ]
  },
  {
   "cell_type": "code",
   "execution_count": 4,
   "id": "bd9f60f0-ba14-4a06-953a-fc38f5aac775",
   "metadata": {},
   "outputs": [],
   "source": [
    "system_msg = \"\"\"\n",
    "Act as an agent which can generate response such as poems, code, scripts, musical pieces, emails, letter, etc.\n",
    "Provide answers in comprehensive and informative way.\n",
    "\"\"\"\n",
    "system_input = {\"role\": \"system\", \"content\": system_msg}\n",
    "chat_history = [system_input]"
   ]
  },
  {
   "cell_type": "code",
   "execution_count": 5,
   "id": "78829a03-ccc9-4ce3-9e4c-b819e6f04407",
   "metadata": {},
   "outputs": [],
   "source": [
    "def chat_with_ai(msg, model=\"gpt-3.5-turbo\", temperature=0.0):\n",
    "    new_input = {\"role\": \"user\", \"content\":msg}\n",
    "    chat_history.append(new_input)\n",
    "    gpt_response = client.chat.completions.create(\n",
    "        model=model,\n",
    "        temperature=temperature,\n",
    "        messages=chat_history\n",
    "    )\n",
    "    ai_reply = gpt_response.choices[0].message.content\n",
    "    ai_output= {\"role\": \"assistant\", \"content\":ai_reply}\n",
    "    chat_history.append(ai_output)\n",
    "    return ai_reply"
   ]
  },
  {
   "cell_type": "code",
   "execution_count": 6,
   "id": "34fb155c-f836-4884-82e8-8566a4e7a6fe",
   "metadata": {},
   "outputs": [],
   "source": [
    "BLUE = '\\033[94m'\n",
    "GREEN = '\\033[92m'\n",
    "ENDC = '\\033[0m'"
   ]
  },
  {
   "cell_type": "code",
   "execution_count": 7,
   "id": "418f1a9b-9721-4fb6-a440-618d552b4fd3",
   "metadata": {},
   "outputs": [
    {
     "name": "stdout",
     "output_type": "stream",
     "text": [
      "Welcome to AI Assistant. Please enter 'exit' to stop chatting.\n"
     ]
    },
    {
     "name": "stdin",
     "output_type": "stream",
     "text": [
      "\n",
      "\u001b[94mUser: \u001b[0m Write me 2 stanzas of a poem about programming.\n"
     ]
    },
    {
     "name": "stdout",
     "output_type": "stream",
     "text": [
      "\n",
      "\u001b[92mAI: \u001b[0mIn the realm of code, where logic reigns supreme,\n",
      "Lines of syntax dance in a digital dream.\n",
      "Variables and functions, like stars in the night,\n",
      "Illuminate the path to solutions bright.\n",
      "\n",
      "Algorithms whisper secrets in binary tongue,\n",
      "Crafting worlds of data, where ideas are sprung.\n",
      "In this coding symphony, where creativity thrives,\n",
      "Programmers weave magic in ones and zeroes lives.\n"
     ]
    },
    {
     "name": "stdin",
     "output_type": "stream",
     "text": [
      "\n",
      "\u001b[94mUser: \u001b[0m extend above poem to 5 stanzas.\n"
     ]
    },
    {
     "name": "stdout",
     "output_type": "stream",
     "text": [
      "\n",
      "\u001b[92mAI: \u001b[0mIn the realm of code, where logic reigns supreme,\n",
      "Lines of syntax dance in a digital dream.\n",
      "Variables and functions, like stars in the night,\n",
      "Illuminate the path to solutions bright.\n",
      "\n",
      "Algorithms whisper secrets in binary tongue,\n",
      "Crafting worlds of data, where ideas are sprung.\n",
      "In this coding symphony, where creativity thrives,\n",
      "Programmers weave magic in ones and zeroes lives.\n",
      "\n",
      "Loops and conditions, like a rhythmic beat,\n",
      "Guide the flow of execution, making code complete.\n",
      "Errors and bugs, like shadows in the light,\n",
      "Challenge the coder to persevere and fight.\n",
      "\n",
      "From simple scripts to complex systems grand,\n",
      "Programming languages, a vast and varied land.\n",
      "Each line written, a story to unfold,\n",
      "In the language of machines, a tale retold.\n",
      "\n",
      "So let us embrace this digital art,\n",
      "Where innovation and logic play a part.\n",
      "In the world of programming, we find our voice,\n",
      "Creating wonders with every line of code choice.\n"
     ]
    },
    {
     "name": "stdin",
     "output_type": "stream",
     "text": [
      "\n",
      "\u001b[94mUser: \u001b[0m exit\n"
     ]
    }
   ],
   "source": [
    "print(\"Welcome to AI Assistant. Please enter 'exit' to stop chatting.\")\n",
    "while True:\n",
    "    user_input = input(f\"\\n{BLUE}User: {ENDC}\")\n",
    "    if user_input.lower() == 'exit':\n",
    "        break\n",
    "    ai_response = chat_with_ai(user_input)\n",
    "    print(f\"\\n{GREEN}AI: {ENDC}\" + ai_response)"
   ]
  },
  {
   "cell_type": "code",
   "execution_count": 8,
   "id": "d77ec3e5-8082-49bc-91b8-c2477728a8b6",
   "metadata": {},
   "outputs": [],
   "source": [
    "BLUE_MD = \"<span style='color:blue'>\"\n",
    "GREEN_MD = \"<span style='color:green'>\"\n",
    "ENDC_MD = \"</span>\""
   ]
  },
  {
   "cell_type": "code",
   "execution_count": 9,
   "id": "267d4f23-9b17-49e1-9359-59b4c5565059",
   "metadata": {},
   "outputs": [
    {
     "name": "stdout",
     "output_type": "stream",
     "text": [
      "Welcome to AI Assistant. Please enter 'exit' to stop chatting.\n"
     ]
    },
    {
     "name": "stdin",
     "output_type": "stream",
     "text": [
      "\n",
      "User:  Write python code to generate nth factorial using iterative method.\n"
     ]
    },
    {
     "data": {
      "text/markdown": [
       "**User:** <span style='color:blue'>Write python code to generate nth factorial using iterative method.</span>"
      ],
      "text/plain": [
       "<IPython.core.display.Markdown object>"
      ]
     },
     "metadata": {},
     "output_type": "display_data"
    },
    {
     "data": {
      "text/markdown": [
       "**AI:** <span style='color:green'>Certainly! Here is a Python code snippet to calculate the factorial of a number using an iterative method:\n",
       "\n",
       "```python\n",
       "def factorial(n):\n",
       "    result = 1\n",
       "    for i in range(1, n + 1):\n",
       "        result *= i\n",
       "    return result\n",
       "\n",
       "n = int(input(\"Enter a number to calculate its factorial: \"))\n",
       "print(f\"The factorial of {n} is: {factorial(n)}\")\n",
       "```\n",
       "\n",
       "You can run this code in a Python environment, enter a number, and it will calculate the factorial of that number using an iterative approach.</span>"
      ],
      "text/plain": [
       "<IPython.core.display.Markdown object>"
      ]
     },
     "metadata": {},
     "output_type": "display_data"
    },
    {
     "name": "stdin",
     "output_type": "stream",
     "text": [
      "\n",
      "User:  can you write above code using recursion?\n"
     ]
    },
    {
     "data": {
      "text/markdown": [
       "**User:** <span style='color:blue'>can you write above code using recursion?</span>"
      ],
      "text/plain": [
       "<IPython.core.display.Markdown object>"
      ]
     },
     "metadata": {},
     "output_type": "display_data"
    },
    {
     "data": {
      "text/markdown": [
       "**AI:** <span style='color:green'>Certainly! Here is the Python code to calculate the factorial of a number using recursion:\n",
       "\n",
       "```python\n",
       "def factorial(n):\n",
       "    if n == 0:\n",
       "        return 1\n",
       "    else:\n",
       "        return n * factorial(n - 1)\n",
       "\n",
       "n = int(input(\"Enter a number to calculate its factorial: \"))\n",
       "print(f\"The factorial of {n} is: {factorial(n)}\")\n",
       "```\n",
       "\n",
       "This code defines a recursive function `factorial` that calculates the factorial of a number. When you run this code in a Python environment, it will prompt you to enter a number, and then it will calculate the factorial of that number using recursion.</span>"
      ],
      "text/plain": [
       "<IPython.core.display.Markdown object>"
      ]
     },
     "metadata": {},
     "output_type": "display_data"
    },
    {
     "name": "stdin",
     "output_type": "stream",
     "text": [
      "\n",
      "User:  exit\n"
     ]
    }
   ],
   "source": [
    "print(\"Welcome to AI Assistant. Please enter 'exit' to stop chatting.\")\n",
    "while True:\n",
    "    user_input = input(\"\\nUser: \")\n",
    "    if user_input.lower() == 'exit':\n",
    "        break\n",
    "    ai_response = chat_with_ai(user_input)\n",
    "    display(Markdown(f\"**User:** {BLUE_MD}{user_input}{ENDC_MD}\"))\n",
    "    display(Markdown(f\"**AI:** {GREEN_MD}{ai_response}{ENDC_MD}\"))"
   ]
  },
  {
   "cell_type": "code",
   "execution_count": null,
   "id": "dde4be3b-1b8a-4ec3-bb21-dd37e2698198",
   "metadata": {},
   "outputs": [],
   "source": []
  },
  {
   "cell_type": "code",
   "execution_count": null,
   "id": "3d569b9a-8ba2-4343-8fdb-5464c97371af",
   "metadata": {},
   "outputs": [],
   "source": []
  }
 ],
 "metadata": {
  "kernelspec": {
   "display_name": "Python 3 (ipykernel)",
   "language": "python",
   "name": "python3"
  },
  "language_info": {
   "codemirror_mode": {
    "name": "ipython",
    "version": 3
   },
   "file_extension": ".py",
   "mimetype": "text/x-python",
   "name": "python",
   "nbconvert_exporter": "python",
   "pygments_lexer": "ipython3",
   "version": "3.12.0"
  }
 },
 "nbformat": 4,
 "nbformat_minor": 5
}
