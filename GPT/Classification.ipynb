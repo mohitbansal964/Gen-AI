{
 "cells": [
  {
   "cell_type": "code",
   "execution_count": 1,
   "id": "32cd4630-7e0a-43f2-9932-8a0ce4e42a67",
   "metadata": {},
   "outputs": [
    {
     "data": {
      "text/plain": [
       "True"
      ]
     },
     "execution_count": 1,
     "metadata": {},
     "output_type": "execute_result"
    }
   ],
   "source": [
    "from openai import OpenAI\n",
    "import os\n",
    "from dotenv import load_dotenv\n",
    "\n",
    "load_dotenv()"
   ]
  },
  {
   "cell_type": "code",
   "execution_count": 2,
   "id": "ce4b64f4-7dbc-4a3a-9345-42819134b84a",
   "metadata": {},
   "outputs": [],
   "source": [
    "api_key = os.getenv(\"OPENAI_API_KEY\")"
   ]
  },
  {
   "cell_type": "code",
   "execution_count": 3,
   "id": "903a45ba-9548-42d9-9ee3-2bbeae8b067c",
   "metadata": {},
   "outputs": [],
   "source": [
    "client = OpenAI(\n",
    "    api_key=api_key,\n",
    ")"
   ]
  },
  {
   "cell_type": "code",
   "execution_count": 4,
   "id": "cc96b983-6153-4c96-9b12-25fae16bbaf6",
   "metadata": {},
   "outputs": [],
   "source": [
    "def classify_text(text, model=\"gpt-3.5-turbo-instruct\", temperature=0.0):\n",
    "    prompt= f\"\"\"What is the sentiment of the following text, which is delimited within triple backticks.\n",
    "    Review Text: ```{text}```\n",
    "    Return the response as 'Positive' or 'Negative' only.\n",
    "    \"\"\"\n",
    "    gpt_response = client.completions.create(\n",
    "        model = model,\n",
    "        prompt = prompt,\n",
    "        temperature=temperature\n",
    "    )\n",
    "    return gpt_response.choices[0].text"
   ]
  },
  {
   "cell_type": "code",
   "execution_count": 5,
   "id": "25b18b8d-ac74-49a9-a8bd-ebac770d141d",
   "metadata": {},
   "outputs": [
    {
     "name": "stdout",
     "output_type": "stream",
     "text": [
      "\n",
      "Positive\n"
     ]
    }
   ],
   "source": [
    "review_text = \"\"\"\n",
    "It is a bright sunny day today.\n",
    "\"\"\"\n",
    "print(classify_text(review_text))"
   ]
  },
  {
   "cell_type": "code",
   "execution_count": 6,
   "id": "5e85759d-dcf6-4a10-9c2c-e530a42db9f6",
   "metadata": {},
   "outputs": [
    {
     "name": "stdout",
     "output_type": "stream",
     "text": [
      "\n",
      "Negative\n"
     ]
    }
   ],
   "source": [
    "review_text = \"\"\"\n",
    "It is a dark gloomy day today.\n",
    "\"\"\"\n",
    "print(classify_text(review_text))"
   ]
  }
 ],
 "metadata": {
  "kernelspec": {
   "display_name": "Python 3 (ipykernel)",
   "language": "python",
   "name": "python3"
  },
  "language_info": {
   "codemirror_mode": {
    "name": "ipython",
    "version": 3
   },
   "file_extension": ".py",
   "mimetype": "text/x-python",
   "name": "python",
   "nbconvert_exporter": "python",
   "pygments_lexer": "ipython3",
   "version": "3.12.0"
  }
 },
 "nbformat": 4,
 "nbformat_minor": 5
}
