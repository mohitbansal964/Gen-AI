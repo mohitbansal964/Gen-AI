{
 "cells": [
  {
   "cell_type": "code",
   "execution_count": 1,
   "id": "32cd4630-7e0a-43f2-9932-8a0ce4e42a67",
   "metadata": {},
   "outputs": [
    {
     "data": {
      "text/plain": [
       "True"
      ]
     },
     "execution_count": 1,
     "metadata": {},
     "output_type": "execute_result"
    }
   ],
   "source": [
    "from openai import OpenAI\n",
    "import os\n",
    "from dotenv import load_dotenv\n",
    "\n",
    "load_dotenv()"
   ]
  },
  {
   "cell_type": "code",
   "execution_count": 2,
   "id": "ce4b64f4-7dbc-4a3a-9345-42819134b84a",
   "metadata": {},
   "outputs": [],
   "source": [
    "api_key = os.getenv(\"OPENAI_API_KEY\")"
   ]
  },
  {
   "cell_type": "code",
   "execution_count": 3,
   "id": "903a45ba-9548-42d9-9ee3-2bbeae8b067c",
   "metadata": {},
   "outputs": [],
   "source": [
    "client = OpenAI(\n",
    "    api_key=api_key,\n",
    ")"
   ]
  },
  {
   "cell_type": "code",
   "execution_count": 13,
   "id": "cc96b983-6153-4c96-9b12-25fae16bbaf6",
   "metadata": {},
   "outputs": [],
   "source": [
    "def translate(text, model=\"gpt-3.5-turbo\", from_lang = \"english\", to_lang = \"french\"):\n",
    "    instruction = f\"\"\"As a translator, your task is to translate from ${from_lang} to ${to_lang}.\n",
    "    \"\"\"\n",
    "    messages = [{\"role\": \"system\", \"content\": instruction}, {\"role\": \"user\", \"content\": text}]\n",
    "    gpt_response = client.chat.completions.create(\n",
    "        model = model,\n",
    "        messages = messages\n",
    "    )\n",
    "    return gpt_response.choices[0].message.content"
   ]
  },
  {
   "cell_type": "code",
   "execution_count": 14,
   "id": "25b18b8d-ac74-49a9-a8bd-ebac770d141d",
   "metadata": {},
   "outputs": [
    {
     "name": "stdout",
     "output_type": "stream",
     "text": [
      "L'Inde, officiellement la République de l'Inde, est un pays d'Asie du Sud.\n",
      "C'est le septième pays le plus grand en termes de superficie ; le pays le plus peuplé en juin 2023 ; et depuis son indépendance en 1947, la démocratie la plus peuplée du monde.\n",
      "Limitée par l'océan Indien au sud, la mer d'Arabie au sud-ouest et la baie du Bengale au sud-est, elle partage des frontières terrestres avec le Pakistan à l'ouest ; la Chine, le Népal et le Bhoutan au nord ; et le Bangladesh et le Myanmar à l'est.\n",
      "Dans l'océan Indien, l'Inde est à proximité de Sri Lanka et des Maldives ; ses îles Andaman et Nicobar partagent une frontière maritime avec la Thaïlande, le Myanmar et l'Indonésie.\n"
     ]
    }
   ],
   "source": [
    "review_text = \"\"\"\n",
    "India, officially the Republic of India is a country in South Asia. \n",
    "It is the seventh-largest country by area; the most populous country as of June 2023; and from the time of its independence in 1947, the world's most populous democracy.\n",
    "Bounded by the Indian Ocean on the south, the Arabian Sea on the southwest, and the Bay of Bengal on the southeast, it shares land borders with Pakistan to the west; China, Nepal, and Bhutan to the north; and Bangladesh and Myanmar to the east.\n",
    "In the Indian Ocean, India is in the vicinity of Sri Lanka and the Maldives; its Andaman and Nicobar Islands share a maritime border with Thailand, Myanmar, and Indonesia.\n",
    "\"\"\"\n",
    "print(translate(review_text))"
   ]
  }
 ],
 "metadata": {
  "kernelspec": {
   "display_name": "Python 3 (ipykernel)",
   "language": "python",
   "name": "python3"
  },
  "language_info": {
   "codemirror_mode": {
    "name": "ipython",
    "version": 3
   },
   "file_extension": ".py",
   "mimetype": "text/x-python",
   "name": "python",
   "nbconvert_exporter": "python",
   "pygments_lexer": "ipython3",
   "version": "3.12.0"
  }
 },
 "nbformat": 4,
 "nbformat_minor": 5
}
