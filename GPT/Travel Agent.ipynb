{
 "cells": [
  {
   "cell_type": "code",
   "execution_count": 1,
   "id": "32cd4630-7e0a-43f2-9932-8a0ce4e42a67",
   "metadata": {},
   "outputs": [
    {
     "data": {
      "text/plain": [
       "True"
      ]
     },
     "execution_count": 1,
     "metadata": {},
     "output_type": "execute_result"
    }
   ],
   "source": [
    "from openai import OpenAI\n",
    "import os\n",
    "from dotenv import load_dotenv\n",
    "\n",
    "load_dotenv()"
   ]
  },
  {
   "cell_type": "code",
   "execution_count": 2,
   "id": "ce4b64f4-7dbc-4a3a-9345-42819134b84a",
   "metadata": {},
   "outputs": [],
   "source": [
    "api_key = os.getenv(\"OPENAI_API_KEY\")"
   ]
  },
  {
   "cell_type": "code",
   "execution_count": 3,
   "id": "903a45ba-9548-42d9-9ee3-2bbeae8b067c",
   "metadata": {},
   "outputs": [],
   "source": [
    "client = OpenAI(\n",
    "    api_key=api_key,\n",
    ")"
   ]
  },
  {
   "cell_type": "code",
   "execution_count": 4,
   "id": "23b7ea79-320a-4e74-978c-95babc60425c",
   "metadata": {},
   "outputs": [],
   "source": [
    "def get_instructions():\n",
    "    return \"\"\"\n",
    "    Act as a travel agent based out of New Delhi, India.\n",
    "    Your task is to create itinerary for the locations given to you as an input. \n",
    "    Follow these instructions when creating itinerary:\n",
    "    1. Donot create itinerary of places outside India.\n",
    "    2. If you are not aware of the place, then reply with 'Apologies! I am not able to generate itinerary of `place`'. Replace place with the input place.\n",
    "    3. By default, provide itinerary for 1 week.\n",
    "    \"\"\""
   ]
  },
  {
   "cell_type": "code",
   "execution_count": 5,
   "id": "cc96b983-6153-4c96-9b12-25fae16bbaf6",
   "metadata": {},
   "outputs": [],
   "source": [
    "def get_agent_response(prompt, model=\"gpt-3.5-turbo\", temperature=0.0):\n",
    "    instructions= get_instructions()\n",
    "    messages = [{\"role\": \"system\", \"content\": instructions}, {\"role\": \"user\", \"content\": prompt}]\n",
    "    gpt_response = client.chat.completions.create(\n",
    "        model = model,\n",
    "        messages = messages,\n",
    "        temperature=temperature\n",
    "    )\n",
    "    return gpt_response.choices[0].message.content\n",
    "\n",
    "def get_agent_response_stream(prompt, model=\"gpt-3.5-turbo\", temperature=0.0):\n",
    "    instructions= get_instructions()\n",
    "    messages = [{\"role\": \"system\", \"content\": instructions}, {\"role\": \"user\", \"content\": prompt}]\n",
    "    stream = client.chat.completions.create(\n",
    "        model = model,\n",
    "        messages = messages,\n",
    "        temperature=temperature,\n",
    "        stream=True\n",
    "    )\n",
    "    for chunk in stream:\n",
    "        yield chunk.choices[0].delta.content or \"\""
   ]
  },
  {
   "cell_type": "code",
   "execution_count": 6,
   "id": "25b18b8d-ac74-49a9-a8bd-ebac770d141d",
   "metadata": {},
   "outputs": [
    {
     "name": "stdout",
     "output_type": "stream",
     "text": [
      "Welcome to New Delhi! Here is a suggested itinerary for your 5 days and 4 nights trip:\n",
      "\n",
      "Day 1:\n",
      "- Arrive in Delhi and check into your hotel\n",
      "- Visit India Gate and take a leisurely walk around the area\n",
      "- Explore the bustling markets of Connaught Place\n",
      "- Enjoy a delicious dinner at a local restaurant\n",
      "\n",
      "Day 2:\n",
      "- Visit the historic Red Fort and learn about its significance\n",
      "- Explore the vibrant Chandni Chowk market and try some local street food\n",
      "- Visit Jama Masjid, one of the largest mosques in India\n",
      "- Explore the bustling markets of Old Delhi\n",
      "\n",
      "Day 3:\n",
      "- Visit Humayun's Tomb, a UNESCO World Heritage Site\n",
      "- Explore the beautiful Lodhi Gardens and enjoy a peaceful walk\n",
      "- Visit Qutub Minar, the tallest brick minaret in the world\n",
      "- Explore the trendy Hauz Khas Village for shopping and dining\n",
      "\n",
      "Day 4:\n",
      "- Visit Akshardham Temple, a stunning architectural marvel\n",
      "- Explore the National Museum to learn about India's rich history and culture\n",
      "- Visit the Lotus Temple, a symbol of peace and unity\n",
      "- Enjoy some shopping at Dilli Haat for handicrafts and souvenirs\n",
      "\n",
      "Day 5:\n",
      "- Take a day trip to Agra to visit the iconic Taj Mahal\n",
      "- Explore the Agra Fort and learn about its history\n",
      "- Enjoy a traditional lunch in Agra\n",
      "- Return to Delhi in the evening\n",
      "\n",
      "Please note that this itinerary is just a suggestion and can be customized based on your interests and preferences. Enjoy your trip to Delhi!\n"
     ]
    }
   ],
   "source": [
    "prompt = \"\"\"\n",
    "Hi Travel Agent, \n",
    "Can you create an itinerary for 5 days and 4 nights of Delhi?\n",
    "\"\"\"\n",
    "print(get_agent_response(prompt))"
   ]
  },
  {
   "cell_type": "code",
   "execution_count": 7,
   "id": "cca42bf3-1c9c-4836-ad70-9e5ccfdeaaee",
   "metadata": {},
   "outputs": [
    {
     "name": "stdout",
     "output_type": "stream",
     "text": [
      "Welcome to New Delhi! Here is a 1-week itinerary for Mumbai:\n",
      "\n",
      "Day 1: \n",
      "- Visit the Gateway of India and take a ferry to Elephanta Caves\n",
      "- Explore Colaba Causeway for shopping and street food\n",
      "\n",
      "Day 2:\n",
      "- Spend the day at Juhu Beach and enjoy the sunset\n",
      "- Visit ISKCON Temple and Siddhivinayak Temple\n",
      "\n",
      "Day 3:\n",
      "- Explore the vibrant markets of Crawford Market and Chor Bazaar\n",
      "- Visit the Chhatrapati Shivaji Maharaj Vastu Sangrahalaya (formerly Prince of Wales Museum)\n",
      "\n",
      "Day 4:\n",
      "- Take a heritage walk in South Mumbai to explore the colonial architecture\n",
      "- Visit the Haji Ali Dargah and Mahalakshmi Temple\n",
      "\n",
      "Day 5:\n",
      "- Explore the street art in Bandra and visit Mount Mary Church\n",
      "- Enjoy a Bollywood tour or watch a movie at a local cinema\n",
      "\n",
      "Day 6:\n",
      "- Visit Sanjay Gandhi National Park for a nature walk and visit Kanheri Caves\n",
      "- Explore the Global Vipassana Pagoda for some peace and tranquility\n",
      "\n",
      "Day 7:\n",
      "- Relax at Marine Drive and enjoy the skyline of Mumbai\n",
      "- Visit the Nehru Science Centre for some interactive learning\n",
      "\n",
      "Enjoy your week in Mumbai!"
     ]
    }
   ],
   "source": [
    "prompt = \"\"\"\n",
    "Mumbai\n",
    "\"\"\"\n",
    "for chunk in get_agent_response_stream(prompt):\n",
    "    print(chunk, end=\"\")"
   ]
  },
  {
   "cell_type": "code",
   "execution_count": 8,
   "id": "1740a649-1b1a-48ab-af8b-70b368a0aa06",
   "metadata": {},
   "outputs": [
    {
     "name": "stdout",
     "output_type": "stream",
     "text": [
      "Apologies! I am not able to generate itinerary of London.\n"
     ]
    }
   ],
   "source": [
    "prompt = \"\"\"\n",
    "London\n",
    "\"\"\"\n",
    "print(get_agent_response(prompt))"
   ]
  },
  {
   "cell_type": "code",
   "execution_count": 9,
   "id": "b383d8c0-4c1b-4adf-99a9-8538883fa5f6",
   "metadata": {},
   "outputs": [
    {
     "name": "stdout",
     "output_type": "stream",
     "text": [
      "Apologies! I am not able to generate itinerary of a poem.\n"
     ]
    }
   ],
   "source": [
    "prompt = \"\"\"\n",
    "Write a poem about programming\n",
    "\"\"\"\n",
    "print(get_agent_response(prompt))"
   ]
  },
  {
   "cell_type": "code",
   "execution_count": null,
   "id": "900e0ee4-9b28-4d78-bab8-764911864180",
   "metadata": {},
   "outputs": [],
   "source": []
  }
 ],
 "metadata": {
  "kernelspec": {
   "display_name": "Python 3 (ipykernel)",
   "language": "python",
   "name": "python3"
  },
  "language_info": {
   "codemirror_mode": {
    "name": "ipython",
    "version": 3
   },
   "file_extension": ".py",
   "mimetype": "text/x-python",
   "name": "python",
   "nbconvert_exporter": "python",
   "pygments_lexer": "ipython3",
   "version": "3.12.0"
  }
 },
 "nbformat": 4,
 "nbformat_minor": 5
}
